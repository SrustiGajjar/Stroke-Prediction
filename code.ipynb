{
 "cells": [
  {
   "cell_type": "markdown",
   "id": "7bcd59f5-468a-421c-a31e-b00a690ebeb7",
   "metadata": {},
   "source": [
    "Use Case\n",
    "\n",
    "Objective Statement: Get business insight about whether stroke will occure or not.\n",
    "                        To reduce risk in deciding to whom a stroke occur.\n",
    "                        To increase predicting efficiency by using different features of a person like age, gender, history of work and other medical conditions.\n",
    "\n",
    "Challenges: Large size of data, can not maintain by excel spreadsheet.\n",
    "            Need several conditions to check at a same time.\n",
    "\n",
    "Methodology / Analytic Technique: Descriptive analysis & Graph analysis\n",
    "\n",
    "Business Benefit: Helping Business Development Team to create predictions based on the characteristic for each patient.\n",
    "Know how to treat customer with specific medical condition.\n",
    "\n",
    "Expected Outcome: Know how many  patients are in risk of a stroke.\n",
    "\n",
    "Business Understanding: \n",
    "Why it is important to learn about stroke?\n",
    "Stroke is the second leading cause of death and disability worldwide. According to the WHO, 5 million people worldwide suffer a stroke every year. \n",
    "In the USA, someone has a stroke every 40 seconds and every 4 minutes, someone dies. The aftermath is devastating, with victims experiencing a wide range of disabling symptoms. \n",
    "The economic burden to the healthcare system in the US amounts to about $34 billion per year in the US. \n",
    "Who is affected?\n",
    "While there is no one, absolute risk factor for determining one’s chances of having a stroke, certain characteristics and factors may increase a person’s odds. \n",
    "It is estimated that 60 to 80% of strokes could be prevented through healthy lifestyle changes. \n",
    "The dataset will help to examine a multitude of variables to better understand which, if any, play a significant role in predicting the odds of having a stroke.\n",
    "Why do we care?\n",
    "Understanding one’s risk factors could help motivate an individual to better educate themselves on their chances of having a stroke, \n",
    "more closely monitor their health, make healthier choices, and ultimately decrease their overall risk of stroke. \n",
    "\n",
    "Data Understanding:\n",
    "Data Set: https://www.kaggle.com/fedesoriano/stroke-prediction-dataset\n",
    "Date Created: 01/26/2021\n",
    "The dataset has 12 columns and 5,110 rows."
   ]
  },
  {
   "cell_type": "markdown",
   "id": "80ad571e-a4ce-46cb-9456-86cb03c2b3d4",
   "metadata": {},
   "source": [
    "Data preparation:\n",
    "Python Version: 3.7.6\n",
    "Packages: Pandas, Numpy, Matplotlib, Seaborn, Sklearn, and imblearn"
   ]
  },
  {
   "cell_type": "code",
   "execution_count": 1,
   "id": "7a105ca7-f5bd-44fb-a98c-d37428b15d30",
   "metadata": {},
   "outputs": [],
   "source": [
    "#Importing Libraries\n",
    "import pandas as pd\n",
    "import numpy as np\n",
    "import matplotlib.pyplot as plt\n",
    "import seaborn as sns\n",
    "from sklearn.preprocessing import LabelEncoder\n",
    "from sklearn.feature_selection import SelectKBest, f_classif\n",
    "from sklearn.model_selection import train_test_split\n",
    "from sklearn.metrics import accuracy_score, f1_score,classification_report,precision_score,recall_score\n",
    "from sklearn.linear_model import LogisticRegression\n",
    "from sklearn.preprocessing import StandardScaler\n",
    "from imblearn.over_sampling import SMOTE\n",
    "import sklearn.metrics as metrics\n",
    "from sklearn.tree import DecisionTreeClassifier\n",
    "from sklearn.ensemble import RandomForestClassifier\n",
    "from xgboost import XGBClassifier\n",
    "from sklearn.metrics import confusion_matrix, accuracy_score, roc_auc_score"
   ]
  },
  {
   "cell_type": "code",
   "execution_count": 2,
   "id": "a592ed5e-3339-4d35-9615-6f0f31c65565",
   "metadata": {},
   "outputs": [
    {
     "data": {
      "text/html": [
       "<div>\n",
       "<style scoped>\n",
       "    .dataframe tbody tr th:only-of-type {\n",
       "        vertical-align: middle;\n",
       "    }\n",
       "\n",
       "    .dataframe tbody tr th {\n",
       "        vertical-align: top;\n",
       "    }\n",
       "\n",
       "    .dataframe thead th {\n",
       "        text-align: right;\n",
       "    }\n",
       "</style>\n",
       "<table border=\"1\" class=\"dataframe\">\n",
       "  <thead>\n",
       "    <tr style=\"text-align: right;\">\n",
       "      <th></th>\n",
       "      <th>id</th>\n",
       "      <th>gender</th>\n",
       "      <th>age</th>\n",
       "      <th>hypertension</th>\n",
       "      <th>heart_disease</th>\n",
       "      <th>ever_married</th>\n",
       "      <th>work_type</th>\n",
       "      <th>Residence_type</th>\n",
       "      <th>avg_glucose_level</th>\n",
       "      <th>bmi</th>\n",
       "      <th>smoking_status</th>\n",
       "      <th>stroke</th>\n",
       "    </tr>\n",
       "  </thead>\n",
       "  <tbody>\n",
       "    <tr>\n",
       "      <th>0</th>\n",
       "      <td>9046</td>\n",
       "      <td>Male</td>\n",
       "      <td>67.0</td>\n",
       "      <td>0</td>\n",
       "      <td>1</td>\n",
       "      <td>Yes</td>\n",
       "      <td>Private</td>\n",
       "      <td>Urban</td>\n",
       "      <td>228.69</td>\n",
       "      <td>36.6</td>\n",
       "      <td>formerly smoked</td>\n",
       "      <td>1</td>\n",
       "    </tr>\n",
       "    <tr>\n",
       "      <th>1</th>\n",
       "      <td>51676</td>\n",
       "      <td>Female</td>\n",
       "      <td>61.0</td>\n",
       "      <td>0</td>\n",
       "      <td>0</td>\n",
       "      <td>Yes</td>\n",
       "      <td>Self-employed</td>\n",
       "      <td>Rural</td>\n",
       "      <td>202.21</td>\n",
       "      <td>NaN</td>\n",
       "      <td>never smoked</td>\n",
       "      <td>1</td>\n",
       "    </tr>\n",
       "    <tr>\n",
       "      <th>2</th>\n",
       "      <td>31112</td>\n",
       "      <td>Male</td>\n",
       "      <td>80.0</td>\n",
       "      <td>0</td>\n",
       "      <td>1</td>\n",
       "      <td>Yes</td>\n",
       "      <td>Private</td>\n",
       "      <td>Rural</td>\n",
       "      <td>105.92</td>\n",
       "      <td>32.5</td>\n",
       "      <td>never smoked</td>\n",
       "      <td>1</td>\n",
       "    </tr>\n",
       "    <tr>\n",
       "      <th>3</th>\n",
       "      <td>60182</td>\n",
       "      <td>Female</td>\n",
       "      <td>49.0</td>\n",
       "      <td>0</td>\n",
       "      <td>0</td>\n",
       "      <td>Yes</td>\n",
       "      <td>Private</td>\n",
       "      <td>Urban</td>\n",
       "      <td>171.23</td>\n",
       "      <td>34.4</td>\n",
       "      <td>smokes</td>\n",
       "      <td>1</td>\n",
       "    </tr>\n",
       "    <tr>\n",
       "      <th>4</th>\n",
       "      <td>1665</td>\n",
       "      <td>Female</td>\n",
       "      <td>79.0</td>\n",
       "      <td>1</td>\n",
       "      <td>0</td>\n",
       "      <td>Yes</td>\n",
       "      <td>Self-employed</td>\n",
       "      <td>Rural</td>\n",
       "      <td>174.12</td>\n",
       "      <td>24.0</td>\n",
       "      <td>never smoked</td>\n",
       "      <td>1</td>\n",
       "    </tr>\n",
       "  </tbody>\n",
       "</table>\n",
       "</div>"
      ],
      "text/plain": [
       "      id  gender   age  hypertension  heart_disease ever_married  \\\n",
       "0   9046    Male  67.0             0              1          Yes   \n",
       "1  51676  Female  61.0             0              0          Yes   \n",
       "2  31112    Male  80.0             0              1          Yes   \n",
       "3  60182  Female  49.0             0              0          Yes   \n",
       "4   1665  Female  79.0             1              0          Yes   \n",
       "\n",
       "       work_type Residence_type  avg_glucose_level   bmi   smoking_status  \\\n",
       "0        Private          Urban             228.69  36.6  formerly smoked   \n",
       "1  Self-employed          Rural             202.21   NaN     never smoked   \n",
       "2        Private          Rural             105.92  32.5     never smoked   \n",
       "3        Private          Urban             171.23  34.4           smokes   \n",
       "4  Self-employed          Rural             174.12  24.0     never smoked   \n",
       "\n",
       "   stroke  \n",
       "0       1  \n",
       "1       1  \n",
       "2       1  \n",
       "3       1  \n",
       "4       1  "
      ]
     },
     "execution_count": 2,
     "metadata": {},
     "output_type": "execute_result"
    }
   ],
   "source": [
    "data=pd.read_csv('healthcare-dataset-stroke-data.csv') #Reading csv file\n",
    "data.head() # Displaying top 5 rows"
   ]
  },
  {
   "cell_type": "markdown",
   "id": "1658c981-28da-49c4-899f-22b2ab783202",
   "metadata": {},
   "source": [
    "Exploratory Data Analysis"
   ]
  },
  {
   "cell_type": "code",
   "execution_count": 3,
   "id": "104400b8-7076-4c8f-ae83-4776318ac207",
   "metadata": {},
   "outputs": [
    {
     "name": "stdout",
     "output_type": "stream",
     "text": [
      "<class 'pandas.core.frame.DataFrame'>\n",
      "RangeIndex: 5110 entries, 0 to 5109\n",
      "Data columns (total 12 columns):\n",
      " #   Column             Non-Null Count  Dtype  \n",
      "---  ------             --------------  -----  \n",
      " 0   id                 5110 non-null   int64  \n",
      " 1   gender             5110 non-null   object \n",
      " 2   age                5110 non-null   float64\n",
      " 3   hypertension       5110 non-null   int64  \n",
      " 4   heart_disease      5110 non-null   int64  \n",
      " 5   ever_married       5110 non-null   object \n",
      " 6   work_type          5110 non-null   object \n",
      " 7   Residence_type     5110 non-null   object \n",
      " 8   avg_glucose_level  5110 non-null   float64\n",
      " 9   bmi                4909 non-null   float64\n",
      " 10  smoking_status     5110 non-null   object \n",
      " 11  stroke             5110 non-null   int64  \n",
      "dtypes: float64(3), int64(4), object(5)\n",
      "memory usage: 479.2+ KB\n"
     ]
    }
   ],
   "source": [
    "data.info() # Showing information about datase"
   ]
  },
  {
   "cell_type": "code",
   "execution_count": 4,
   "id": "444adf6a-5cd8-473a-b57b-9e3fdd091f84",
   "metadata": {},
   "outputs": [
    {
     "data": {
      "text/html": [
       "<div>\n",
       "<style scoped>\n",
       "    .dataframe tbody tr th:only-of-type {\n",
       "        vertical-align: middle;\n",
       "    }\n",
       "\n",
       "    .dataframe tbody tr th {\n",
       "        vertical-align: top;\n",
       "    }\n",
       "\n",
       "    .dataframe thead th {\n",
       "        text-align: right;\n",
       "    }\n",
       "</style>\n",
       "<table border=\"1\" class=\"dataframe\">\n",
       "  <thead>\n",
       "    <tr style=\"text-align: right;\">\n",
       "      <th></th>\n",
       "      <th>id</th>\n",
       "      <th>age</th>\n",
       "      <th>hypertension</th>\n",
       "      <th>heart_disease</th>\n",
       "      <th>avg_glucose_level</th>\n",
       "      <th>bmi</th>\n",
       "      <th>stroke</th>\n",
       "    </tr>\n",
       "  </thead>\n",
       "  <tbody>\n",
       "    <tr>\n",
       "      <th>count</th>\n",
       "      <td>5110.000000</td>\n",
       "      <td>5110.000000</td>\n",
       "      <td>5110.000000</td>\n",
       "      <td>5110.000000</td>\n",
       "      <td>5110.000000</td>\n",
       "      <td>4909.000000</td>\n",
       "      <td>5110.000000</td>\n",
       "    </tr>\n",
       "    <tr>\n",
       "      <th>mean</th>\n",
       "      <td>36517.829354</td>\n",
       "      <td>43.226614</td>\n",
       "      <td>0.097456</td>\n",
       "      <td>0.054012</td>\n",
       "      <td>106.147677</td>\n",
       "      <td>28.893237</td>\n",
       "      <td>0.048728</td>\n",
       "    </tr>\n",
       "    <tr>\n",
       "      <th>std</th>\n",
       "      <td>21161.721625</td>\n",
       "      <td>22.612647</td>\n",
       "      <td>0.296607</td>\n",
       "      <td>0.226063</td>\n",
       "      <td>45.283560</td>\n",
       "      <td>7.854067</td>\n",
       "      <td>0.215320</td>\n",
       "    </tr>\n",
       "    <tr>\n",
       "      <th>min</th>\n",
       "      <td>67.000000</td>\n",
       "      <td>0.080000</td>\n",
       "      <td>0.000000</td>\n",
       "      <td>0.000000</td>\n",
       "      <td>55.120000</td>\n",
       "      <td>10.300000</td>\n",
       "      <td>0.000000</td>\n",
       "    </tr>\n",
       "    <tr>\n",
       "      <th>25%</th>\n",
       "      <td>17741.250000</td>\n",
       "      <td>25.000000</td>\n",
       "      <td>0.000000</td>\n",
       "      <td>0.000000</td>\n",
       "      <td>77.245000</td>\n",
       "      <td>23.500000</td>\n",
       "      <td>0.000000</td>\n",
       "    </tr>\n",
       "    <tr>\n",
       "      <th>50%</th>\n",
       "      <td>36932.000000</td>\n",
       "      <td>45.000000</td>\n",
       "      <td>0.000000</td>\n",
       "      <td>0.000000</td>\n",
       "      <td>91.885000</td>\n",
       "      <td>28.100000</td>\n",
       "      <td>0.000000</td>\n",
       "    </tr>\n",
       "    <tr>\n",
       "      <th>75%</th>\n",
       "      <td>54682.000000</td>\n",
       "      <td>61.000000</td>\n",
       "      <td>0.000000</td>\n",
       "      <td>0.000000</td>\n",
       "      <td>114.090000</td>\n",
       "      <td>33.100000</td>\n",
       "      <td>0.000000</td>\n",
       "    </tr>\n",
       "    <tr>\n",
       "      <th>max</th>\n",
       "      <td>72940.000000</td>\n",
       "      <td>82.000000</td>\n",
       "      <td>1.000000</td>\n",
       "      <td>1.000000</td>\n",
       "      <td>271.740000</td>\n",
       "      <td>97.600000</td>\n",
       "      <td>1.000000</td>\n",
       "    </tr>\n",
       "  </tbody>\n",
       "</table>\n",
       "</div>"
      ],
      "text/plain": [
       "                 id          age  hypertension  heart_disease  \\\n",
       "count   5110.000000  5110.000000   5110.000000    5110.000000   \n",
       "mean   36517.829354    43.226614      0.097456       0.054012   \n",
       "std    21161.721625    22.612647      0.296607       0.226063   \n",
       "min       67.000000     0.080000      0.000000       0.000000   \n",
       "25%    17741.250000    25.000000      0.000000       0.000000   \n",
       "50%    36932.000000    45.000000      0.000000       0.000000   \n",
       "75%    54682.000000    61.000000      0.000000       0.000000   \n",
       "max    72940.000000    82.000000      1.000000       1.000000   \n",
       "\n",
       "       avg_glucose_level          bmi       stroke  \n",
       "count        5110.000000  4909.000000  5110.000000  \n",
       "mean          106.147677    28.893237     0.048728  \n",
       "std            45.283560     7.854067     0.215320  \n",
       "min            55.120000    10.300000     0.000000  \n",
       "25%            77.245000    23.500000     0.000000  \n",
       "50%            91.885000    28.100000     0.000000  \n",
       "75%           114.090000    33.100000     0.000000  \n",
       "max           271.740000    97.600000     1.000000  "
      ]
     },
     "execution_count": 4,
     "metadata": {},
     "output_type": "execute_result"
    }
   ],
   "source": [
    "data.describe() # Showing data's statistical features"
   ]
  },
  {
   "cell_type": "code",
   "execution_count": 5,
   "id": "e3066bd1-428e-4de4-8557-666794ec6668",
   "metadata": {},
   "outputs": [],
   "source": [
    "#ID is nothing but a unique number assigned to every patient to keep track of them and making them unique. So, dropping it.\n",
    "data.drop(\"id\",inplace=True,axis=1)"
   ]
  },
  {
   "cell_type": "code",
   "execution_count": 6,
   "id": "7fef1c06-a178-46b0-8df2-feeee7f83d61",
   "metadata": {},
   "outputs": [
    {
     "name": "stdout",
     "output_type": "stream",
     "text": [
      "Unique values\n",
      " ['Male' 'Female' 'Other']\n",
      "Value Counts\n",
      " Female    2994\n",
      "Male      2115\n",
      "Other        1\n",
      "Name: gender, dtype: int64\n"
     ]
    },
    {
     "data": {
      "text/plain": [
       "<AxesSubplot:xlabel='gender', ylabel='count'>"
      ]
     },
     "execution_count": 6,
     "metadata": {},
     "output_type": "execute_result"
    },
    {
     "data": {
      "image/png": "[encoded data removed]",
      "text/plain": [
       "<Figure size 432x288 with 1 Axes>"
      ]
     },
     "metadata": {
      "needs_background": "light"
     },
     "output_type": "display_data"
    }
   ],
   "source": [
    "#Gender of the paitents\n",
    "print('Unique values\\n',data['gender'].unique())\n",
    "print('Value Counts\\n',data['gender'].value_counts())\n",
    "# Above codes will give us gender's unique values and count of each value.\n",
    "\n",
    "sns.countplot(data=data,x='gender') #This will help us to see count of values in each unique category.\n",
    "sns.countplot(data=data,x='gender',hue='stroke')# This plot will help to analyze how gender will affect chances of stroke."
   ]
  },
  {
   "cell_type": "code",
   "execution_count": 7,
   "id": "b46f39f1-9fcc-41bf-9edc-294727f05943",
   "metadata": {},
   "outputs": [
    {
     "data": {
      "text/plain": [
       "<AxesSubplot:xlabel='age', ylabel='count'>"
      ]
     },
     "execution_count": 7,
     "metadata": {},
     "output_type": "execute_result"
    },
    {
     "data": {
      "image/png": "[encoded data removed]",
      "text/plain": [
       "<Figure size 360x360 with 1 Axes>"
      ]
     },
     "metadata": {
      "needs_background": "light"
     },
     "output_type": "display_data"
    },
    {
     "data": {
      "image/png": "[encoded data removed]",
      "text/plain": [
       "<Figure size 1080x504 with 1 Axes>"
      ]
     },
     "metadata": {
      "needs_background": "light"
     },
     "output_type": "display_data"
    }
   ],
   "source": [
    "#Age\n",
    "data['age'].nunique() # Returns number of unique values \n",
    "sns.displot(data['age']) # This will plot a distribution plot of variable age\n",
    "plt.figure(figsize=(15,7))\n",
    "sns.countplot(data=data,x='age',hue='stroke') # This plot will help to analyze how gender will affect chances of stroke."
   ]
  },
  {
   "cell_type": "code",
   "execution_count": 8,
   "id": "29316283-0b86-47b4-9b9f-1ae0640ebf1c",
   "metadata": {},
   "outputs": [
    {
     "name": "stdout",
     "output_type": "stream",
     "text": [
      "Unique Value\n",
      " [1 0]\n",
      "Value Counts\n",
      " 0    4834\n",
      "1     276\n",
      "Name: heart_disease, dtype: int64\n"
     ]
    },
    {
     "data": {
      "text/plain": [
       "<AxesSubplot:xlabel='heart_disease', ylabel='count'>"
      ]
     },
     "execution_count": 8,
     "metadata": {},
     "output_type": "execute_result"
    },
    {
     "data": {
      "image/png": "[encoded data removed]",
      "text/plain": [
       "<Figure size 432x288 with 1 Axes>"
      ]
     },
     "metadata": {
      "needs_background": "light"
     },
     "output_type": "display_data"
    }
   ],
   "source": [
    "#Previous heart diseases\n",
    "print('Unique Value\\n',data['heart_disease'].unique())\n",
    "print('Value Counts\\n',data['heart_disease'].value_counts())\n",
    "# Above code will gives us unique value for heart disease and its value counts\n",
    "sns.countplot(data=data,x='heart_disease') # Will plot a counter plot of variable heart diseases\n",
    "sns.countplot(data=data,x='heart_disease',hue='stroke') # This plot will help to analyze how gender will affect chances of stroke."
   ]
  },
  {
   "cell_type": "code",
   "execution_count": 9,
   "id": "9e615f9a-5b32-4b3e-8c54-5a733f3b2388",
   "metadata": {},
   "outputs": [
    {
     "name": "stdout",
     "output_type": "stream",
     "text": [
      "Unique Value\n",
      " [1 0]\n",
      "Value Counts\n",
      " 0    4834\n",
      "1     276\n",
      "Name: heart_disease, dtype: int64\n"
     ]
    },
    {
     "data": {
      "text/plain": [
       "<AxesSubplot:xlabel='heart_disease', ylabel='count'>"
      ]
     },
     "execution_count": 9,
     "metadata": {},
     "output_type": "execute_result"
    },
    {
     "data": {
      "image/png": "[encoded data removed]",
      "text/plain": [
       "<Figure size 432x288 with 1 Axes>"
      ]
     },
     "metadata": {
      "needs_background": "light"
     },
     "output_type": "display_data"
    }
   ],
   "source": [
    "#Hypertensive paitents\n",
    "print('Unique Value\\n',data['heart_disease'].unique())\n",
    "print('Value Counts\\n',data['heart_disease'].value_counts())\n",
    "# Above code will gives us unique value for heart disease and its value counts\n",
    "sns.countplot(data=data,x='heart_disease') # Will plot a counter plot of variable heart diseases\n",
    "sns.countplot(data=data,x='heart_disease',hue='stroke') # This plot will help to analyze how gender will affect chances of stroke."
   ]
  },
  {
   "cell_type": "code",
   "execution_count": 10,
   "id": "7fda60d8-7c01-4823-b0c3-31fbd2c66938",
   "metadata": {},
   "outputs": [
    {
     "name": "stdout",
     "output_type": "stream",
     "text": [
      "Unique Values\n",
      " ['Yes' 'No']\n",
      "Value Counts\n",
      " Yes    3353\n",
      "No     1757\n",
      "Name: ever_married, dtype: int64\n"
     ]
    },
    {
     "data": {
      "text/plain": [
       "<AxesSubplot:xlabel='ever_married', ylabel='count'>"
      ]
     },
     "execution_count": 10,
     "metadata": {},
     "output_type": "execute_result"
    },
    {
     "data": {
      "image/png": "[encoded data removed]",
      "text/plain": [
       "<Figure size 432x288 with 1 Axes>"
      ]
     },
     "metadata": {
      "needs_background": "light"
     },
     "output_type": "display_data"
    }
   ],
   "source": [
    "#Ever married in life \n",
    "print('Unique Values\\n',data['ever_married'].unique())\n",
    "print('Value Counts\\n',data['ever_married'].value_counts())\n",
    "# Above code will gives us number unique values of ever-married patients and its value count\n",
    "sns.countplot(data=data,x='ever_married') # Counter plot of ever married \n",
    "sns.countplot(data=data,x='ever_married',hue='stroke') # Ever married with respect of stroke"
   ]
  },
  {
   "cell_type": "code",
   "execution_count": 11,
   "id": "41be684a-53fa-458a-9c24-b8d01ebf1d09",
   "metadata": {},
   "outputs": [
    {
     "name": "stdout",
     "output_type": "stream",
     "text": [
      "Unique Value\n",
      " ['Private' 'Self-employed' 'Govt_job' 'children' 'Never_worked']\n",
      "Value Counts\n",
      " Private          2925\n",
      "Self-employed     819\n",
      "children          687\n",
      "Govt_job          657\n",
      "Never_worked       22\n",
      "Name: work_type, dtype: int64\n"
     ]
    },
    {
     "data": {
      "text/plain": [
       "<AxesSubplot:xlabel='work_type', ylabel='count'>"
      ]
     },
     "execution_count": 11,
     "metadata": {},
     "output_type": "execute_result"
    },
    {
     "data": {
      "image/png": "[encoded data removed]",
      "text/plain": [
       "<Figure size 432x288 with 1 Axes>"
      ]
     },
     "metadata": {
      "needs_background": "light"
     },
     "output_type": "display_data"
    }
   ],
   "source": [
    "#Work type of patients\n",
    "print('Unique Value\\n',data['work_type'].unique())\n",
    "print('Value Counts\\n',data['work_type'].value_counts())\n",
    "# Above code will gives us unique values of work type and its value count\n",
    "sns.countplot(data=data,x='work_type') # Counter plot of work type\n",
    "sns.countplot(data=data,x='work_type',hue='stroke') # Count plot of work type with respect to stroke"
   ]
  },
  {
   "cell_type": "code",
   "execution_count": 12,
   "id": "8a78d049-ed21-4a16-a4d5-37327e7c962c",
   "metadata": {},
   "outputs": [
    {
     "name": "stdout",
     "output_type": "stream",
     "text": [
      "Unique Values\n",
      " ['Urban' 'Rural']\n",
      "Value Counts\n",
      " Urban    2596\n",
      "Rural    2514\n",
      "Name: Residence_type, dtype: int64\n"
     ]
    },
    {
     "data": {
      "text/plain": [
       "<AxesSubplot:xlabel='Residence_type', ylabel='count'>"
      ]
     },
     "execution_count": 12,
     "metadata": {},
     "output_type": "execute_result"
    },
    {
     "data": {
      "image/png": "[encoded data removed]",
      "text/plain": [
       "<Figure size 432x288 with 1 Axes>"
      ]
     },
     "metadata": {
      "needs_background": "light"
     },
     "output_type": "display_data"
    }
   ],
   "source": [
    "#Residence type of paitents\n",
    "print('Unique Values\\n',data['Residence_type'].unique())\n",
    "print(\"Value Counts\\n\",data['Residence_type'].value_counts())\n",
    "# Above code will gives us unique values of Residence type and its count\n",
    "sns.countplot(data=data,x='Residence_type') # Counter plot of residence type\n",
    "sns.countplot(data=data,x='Residence_type',hue='stroke') # Residence Type with respect to stroke"
   ]
  },
  {
   "cell_type": "code",
   "execution_count": 13,
   "id": "769e21aa-4a81-4a14-8f4c-9dab3c5e15d4",
   "metadata": {},
   "outputs": [
    {
     "data": {
      "text/plain": [
       "<seaborn.axisgrid.FacetGrid at 0x21fe88a5a90>"
      ]
     },
     "execution_count": 13,
     "metadata": {},
     "output_type": "execute_result"
    },
    {
     "data": {
      "image/png": "[encoded data removed]",
      "text/plain": [
       "<Figure size 360x360 with 1 Axes>"
      ]
     },
     "metadata": {
      "needs_background": "light"
     },
     "output_type": "display_data"
    }
   ],
   "source": [
    "#Body mass index - BMI\n",
    "data['bmi'].isna().sum() #Gives us the null values\n",
    "data['bmi'].fillna(data['bmi'].mean(),inplace=True) # Filling null values with average value\n",
    "data['bmi'].nunique() # Gives us the number of unique values \n",
    "sns.displot(data['bmi']) # Distribution of bmi"
   ]
  },
  {
   "cell_type": "code",
   "execution_count": 14,
   "id": "6389bee5-ba9c-49fc-8a76-8ae66ffdc3bb",
   "metadata": {},
   "outputs": [
    {
     "name": "stdout",
     "output_type": "stream",
     "text": [
      "Unique Values\n",
      " ['formerly smoked' 'never smoked' 'smokes' 'Unknown']\n",
      "Value Counts\n",
      " never smoked       1892\n",
      "Unknown            1544\n",
      "formerly smoked     885\n",
      "smokes              789\n",
      "Name: smoking_status, dtype: int64\n"
     ]
    },
    {
     "data": {
      "text/plain": [
       "<AxesSubplot:xlabel='smoking_status', ylabel='count'>"
      ]
     },
     "execution_count": 14,
     "metadata": {},
     "output_type": "execute_result"
    },
    {
     "data": {
      "image/png": "[encoded data removed]",
      "text/plain": [
       "<Figure size 432x288 with 1 Axes>"
      ]
     },
     "metadata": {
      "needs_background": "light"
     },
     "output_type": "display_data"
    }
   ],
   "source": [
    "#Smoking status of patients\n",
    "print('Unique Values\\n',data['smoking_status'].unique())\n",
    "print('Value Counts\\n',data['smoking_status'].value_counts())\n",
    "# Gives us the unique values and its count\n",
    "sns.countplot(data=data,x='smoking_status') # Count plot of smoking status\n",
    "sns.countplot(data=data,x='smoking_status',hue='stroke') # Smoking Status with respect to Stroke"
   ]
  },
  {
   "cell_type": "code",
   "execution_count": 15,
   "id": "a7170fd5-d2b5-4c54-bc70-c769c5e169d8",
   "metadata": {},
   "outputs": [
    {
     "name": "stdout",
     "output_type": "stream",
     "text": [
      "Unique Value\n",
      " [1 0]\n",
      "Value Counts\n",
      " 0    4861\n",
      "1     249\n",
      "Name: stroke, dtype: int64\n"
     ]
    },
    {
     "data": {
      "text/plain": [
       "<AxesSubplot:xlabel='stroke', ylabel='count'>"
      ]
     },
     "execution_count": 15,
     "metadata": {},
     "output_type": "execute_result"
    },
    {
     "data": {
      "image/png": "[encoded data removed]",
      "text/plain": [
       "<Figure size 432x288 with 1 Axes>"
      ]
     },
     "metadata": {
      "needs_background": "light"
     },
     "output_type": "display_data"
    }
   ],
   "source": [
    "#Stroke - Our target variable. It tells us whether patients have chances of stroke.\n",
    "print('Unique Value\\n',data['stroke'].unique())\n",
    "print('Value Counts\\n',data['stroke'].value_counts())\n",
    "# Gives us the unique Value and its count\n",
    "sns.countplot(data=data,x='stroke') # Count Plot of Stroke"
   ]
  },
  {
   "cell_type": "markdown",
   "id": "71a0cb49-4c75-4a58-b1bb-fe7630356744",
   "metadata": {},
   "source": [
    "Feature Engineering"
   ]
  },
  {
   "cell_type": "code",
   "execution_count": 16,
   "id": "58dd025a-0297-49ed-bae9-15e51d6aa984",
   "metadata": {},
   "outputs": [
    {
     "name": "stdout",
     "output_type": "stream",
     "text": [
      "Index(['gender', 'ever_married', 'work_type', 'Residence_type',\n",
      "       'smoking_status'],\n",
      "      dtype='object')\n",
      "   gender   age  hypertension  heart_disease  ever_married  work_type  \\\n",
      "0       1  67.0             0              1             1          2   \n",
      "1       0  61.0             0              0             1          3   \n",
      "2       1  80.0             0              1             1          2   \n",
      "3       0  49.0             0              0             1          2   \n",
      "4       0  79.0             1              0             1          3   \n",
      "\n",
      "   Residence_type  avg_glucose_level        bmi  smoking_status  stroke  \n",
      "0               1             228.69  36.600000               1       1  \n",
      "1               0             202.21  28.893237               2       1  \n",
      "2               0             105.92  32.500000               2       1  \n",
      "3               1             171.23  34.400000               3       1  \n",
      "4               0             174.12  24.000000               2       1  \n"
     ]
    }
   ],
   "source": [
    "# Feteching columns whose data type is object.\n",
    "cols=data.select_dtypes(include=['object']).columns\n",
    "print(cols)\n",
    "le=LabelEncoder() # Initializing our Label Encoder object\n",
    "data[cols]=data[cols].apply(le.fit_transform) # Transfering categorical data into numeric\n",
    "print(data.head())"
   ]
  },
  {
   "cell_type": "code",
   "execution_count": 17,
   "id": "9e2f9b7d-476a-4be1-a87a-77f34dfc8f11",
   "metadata": {},
   "outputs": [
    {
     "data": {
      "text/plain": [
       "<AxesSubplot:>"
      ]
     },
     "execution_count": 17,
     "metadata": {},
     "output_type": "execute_result"
    },
    {
     "data": {
      "image/png": "[encoded data removed]",
      "text/plain": [
       "<Figure size 1080x720 with 2 Axes>"
      ]
     },
     "metadata": {
      "needs_background": "light"
     },
     "output_type": "display_data"
    }
   ],
   "source": [
    "#Plotting heat map for checking correlation \n",
    "plt.figure(figsize=(15,10))\n",
    "sns.heatmap(data.corr(),annot=True,fmt='.2')\n",
    "#We can see that age, hypertension, heart_disease, ever_married, avg_glucose_level have effective correlation"
   ]
  },
  {
   "cell_type": "code",
   "execution_count": 18,
   "id": "d2e109a9-7008-4594-bb45-a6525e2e162a",
   "metadata": {},
   "outputs": [
    {
     "data": {
      "text/html": [
       "<div>\n",
       "<style scoped>\n",
       "    .dataframe tbody tr th:only-of-type {\n",
       "        vertical-align: middle;\n",
       "    }\n",
       "\n",
       "    .dataframe tbody tr th {\n",
       "        vertical-align: top;\n",
       "    }\n",
       "\n",
       "    .dataframe thead th {\n",
       "        text-align: right;\n",
       "    }\n",
       "</style>\n",
       "<table border=\"1\" class=\"dataframe\">\n",
       "  <thead>\n",
       "    <tr style=\"text-align: right;\">\n",
       "      <th></th>\n",
       "      <th>Attribute</th>\n",
       "      <th>Score</th>\n",
       "    </tr>\n",
       "  </thead>\n",
       "  <tbody>\n",
       "    <tr>\n",
       "      <th>1</th>\n",
       "      <td>age</td>\n",
       "      <td>326.916568</td>\n",
       "    </tr>\n",
       "    <tr>\n",
       "      <th>3</th>\n",
       "      <td>heart_disease</td>\n",
       "      <td>94.698406</td>\n",
       "    </tr>\n",
       "    <tr>\n",
       "      <th>7</th>\n",
       "      <td>avg_glucose_level</td>\n",
       "      <td>90.503870</td>\n",
       "    </tr>\n",
       "    <tr>\n",
       "      <th>2</th>\n",
       "      <td>hypertension</td>\n",
       "      <td>84.953542</td>\n",
       "    </tr>\n",
       "    <tr>\n",
       "      <th>4</th>\n",
       "      <td>ever_married</td>\n",
       "      <td>60.667230</td>\n",
       "    </tr>\n",
       "    <tr>\n",
       "      <th>8</th>\n",
       "      <td>bmi</td>\n",
       "      <td>7.759776</td>\n",
       "    </tr>\n",
       "    <tr>\n",
       "      <th>5</th>\n",
       "      <td>work_type</td>\n",
       "      <td>5.340019</td>\n",
       "    </tr>\n",
       "    <tr>\n",
       "      <th>9</th>\n",
       "      <td>smoking_status</td>\n",
       "      <td>4.043033</td>\n",
       "    </tr>\n",
       "    <tr>\n",
       "      <th>6</th>\n",
       "      <td>Residence_type</td>\n",
       "      <td>1.220842</td>\n",
       "    </tr>\n",
       "    <tr>\n",
       "      <th>0</th>\n",
       "      <td>gender</td>\n",
       "      <td>0.407266</td>\n",
       "    </tr>\n",
       "  </tbody>\n",
       "</table>\n",
       "</div>"
      ],
      "text/plain": [
       "           Attribute       Score\n",
       "1                age  326.916568\n",
       "3      heart_disease   94.698406\n",
       "7  avg_glucose_level   90.503870\n",
       "2       hypertension   84.953542\n",
       "4       ever_married   60.667230\n",
       "8                bmi    7.759776\n",
       "5          work_type    5.340019\n",
       "9     smoking_status    4.043033\n",
       "6     Residence_type    1.220842\n",
       "0             gender    0.407266"
      ]
     },
     "execution_count": 18,
     "metadata": {},
     "output_type": "execute_result"
    }
   ],
   "source": [
    "#To cross check we will use - SelectKBest - used for extracting best features of given dataset\n",
    "#f_classif - Compute the ANOVA F-value for the provided sample.\n",
    "classifier = SelectKBest(score_func=f_classif,k=5)\n",
    "fits = classifier.fit(data.drop('stroke',axis=1),data['stroke'])\n",
    "x=pd.DataFrame(fits.scores_)\n",
    "columns = pd.DataFrame(data.drop('stroke',axis=1).columns)\n",
    "fscores = pd.concat([columns,x],axis=1)\n",
    "fscores.columns = ['Attribute','Score']\n",
    "fscores.sort_values(by='Score',ascending=False)"
   ]
  },
  {
   "cell_type": "code",
   "execution_count": 19,
   "id": "50367d80-5159-44b8-95d7-eaf66e01c79a",
   "metadata": {},
   "outputs": [
    {
     "name": "stdout",
     "output_type": "stream",
     "text": [
      "1                  age\n",
      "2         hypertension\n",
      "3        heart_disease\n",
      "4         ever_married\n",
      "7    avg_glucose_level\n",
      "Name: Attribute, dtype: object\n"
     ]
    }
   ],
   "source": [
    "#We can see that age is having highest values so, we can keep threshold of 50\n",
    "cols=fscores[fscores['Score']>50]['Attribute']\n",
    "print(cols)"
   ]
  },
  {
   "cell_type": "code",
   "execution_count": 20,
   "id": "3b415b57-dcc3-471b-b9eb-52ce3c979447",
   "metadata": {},
   "outputs": [],
   "source": [
    "#Defining independent and dependent variables\n",
    "X = data[cols]\n",
    "y = data['stroke']"
   ]
  },
  {
   "cell_type": "code",
   "execution_count": 21,
   "id": "e9785b42-2b27-4d59-a2dd-567b6cce59c9",
   "metadata": {},
   "outputs": [],
   "source": [
    "# standard scalar transforms the data in such a manner that it has mean as 0 and standard deviation as 1\n",
    "sc = StandardScaler()"
   ]
  },
  {
   "cell_type": "code",
   "execution_count": 22,
   "id": "87215874-f743-43fb-8a31-9b8f6a8cc669",
   "metadata": {},
   "outputs": [],
   "source": [
    "X = sc.fit_transform(X)"
   ]
  },
  {
   "cell_type": "code",
   "execution_count": 23,
   "id": "9ea3c71c-77c0-4683-bdc6-616ac0f420ad",
   "metadata": {},
   "outputs": [
    {
     "name": "stdout",
     "output_type": "stream",
     "text": [
      "Before OverSampling, counts of label '1': 249\n",
      "Before OverSampling, counts of label '0': 4861 \n",
      "\n",
      "After OverSampling, the shape of X: (9722, 5)\n",
      "After OverSampling, the shape of y: (9722,) \n",
      "\n",
      "After OverSampling, counts of label '1': 4861\n",
      "After OverSampling, counts of label '0': 4861\n"
     ]
    }
   ],
   "source": [
    "#CHecking values of 0 and 1 in dataset\n",
    "print(\"Before OverSampling, counts of label '1': {}\".format(sum(y==1)))\n",
    "print(\"Before OverSampling, counts of label '0': {} \\n\".format(sum(y==0)))\n",
    "#creating new samples using existing one with help of smote function\n",
    "sm = SMOTE(random_state=2)\n",
    "X, y = sm.fit_resample(X, y.ravel())\n",
    "#checking values of X and y in dataset after oversampling \n",
    "print('After OverSampling, the shape of X: {}'.format(X.shape))\n",
    "print('After OverSampling, the shape of y: {} \\n'.format(y.shape))\n",
    "\n",
    "print(\"After OverSampling, counts of label '1': {}\".format(sum(y==1)))\n",
    "print(\"After OverSampling, counts of label '0': {}\".format(sum(y==0)))"
   ]
  },
  {
   "cell_type": "markdown",
   "id": "519e34ea-baf0-43a6-bc31-8108c6ecf4ee",
   "metadata": {},
   "source": [
    "Modelling"
   ]
  },
  {
   "cell_type": "code",
   "execution_count": 24,
   "id": "3778cdca-872f-4846-bdb9-2f878e5f757e",
   "metadata": {},
   "outputs": [],
   "source": [
    "#Splitting data in train and test \n",
    "X_train,X_test,y_train,y_test=train_test_split(X,y,random_state=50,test_size=0.20)"
   ]
  },
  {
   "cell_type": "markdown",
   "id": "c14f40c4-d065-47fe-b8af-89d211408442",
   "metadata": {},
   "source": [
    "Model 1 - Logistic Regression"
   ]
  },
  {
   "cell_type": "code",
   "execution_count": 25,
   "id": "914ad5ef-16af-425a-b7b1-a93ade04a120",
   "metadata": {},
   "outputs": [
    {
     "data": {
      "text/plain": [
       "LogisticRegression()"
      ]
     },
     "execution_count": 25,
     "metadata": {},
     "output_type": "execute_result"
    }
   ],
   "source": [
    "#Calling logistic function \n",
    "lr = LogisticRegression()\n",
    "lr.fit(X_train, y_train) #fitting and training the model with traning values"
   ]
  },
  {
   "cell_type": "code",
   "execution_count": 26,
   "id": "06c5d7c2-1705-49f8-a1db-ad94a5672392",
   "metadata": {},
   "outputs": [],
   "source": [
    "#Creating y_pred variable as model is predicting values with help of X-test data \n",
    "y_pred = lr.predict(X_test)"
   ]
  },
  {
   "cell_type": "markdown",
   "id": "cbacecf8-5585-4335-8b52-ae0b60301c6f",
   "metadata": {},
   "source": [
    "Evaluation of Model 1 - Logistic Regression"
   ]
  },
  {
   "cell_type": "code",
   "execution_count": 27,
   "id": "e8043f77-4692-44c1-8aa9-f0482d8f8e8a",
   "metadata": {},
   "outputs": [
    {
     "name": "stdout",
     "output_type": "stream",
     "text": [
      "[[719 276]\n",
      " [175 775]]\n"
     ]
    }
   ],
   "source": [
    "#Calling confusion matrix function because they give direct comparisons of values like True Positives, False Positives, True Negatives and False Negatives.\n",
    "cm = confusion_matrix(y_test, y_pred)\n",
    "print(cm)"
   ]
  },
  {
   "cell_type": "code",
   "execution_count": 28,
   "id": "04dfc0fa-9385-49af-8bc6-48611b96e11d",
   "metadata": {},
   "outputs": [
    {
     "data": {
      "image/png": "[encoded data removed]",
      "text/plain": [
       "<Figure size 360x360 with 1 Axes>"
      ]
     },
     "metadata": {
      "needs_background": "light"
     },
     "output_type": "display_data"
    }
   ],
   "source": [
    "#Plotting the confusion matrix\n",
    "from mlxtend.plotting import plot_confusion_matrix\n",
    "fig, ax = plot_confusion_matrix(conf_mat=cm, figsize=(5, 5), cmap=plt.cm.Greens)\n",
    "plt.xlabel('Predictions', fontsize=18)\n",
    "plt.ylabel('Actuals', fontsize=18)\n",
    "plt.title('Confusion Matrix', fontsize=18)\n",
    "plt.show()"
   ]
  },
  {
   "cell_type": "code",
   "execution_count": 29,
   "id": "b83a7c43-a0fd-49c2-8563-19048723b884",
   "metadata": {},
   "outputs": [
    {
     "data": {
      "text/plain": [
       "0.7681233933161954"
      ]
     },
     "execution_count": 29,
     "metadata": {},
     "output_type": "execute_result"
    }
   ],
   "source": [
    "#Creating a variable and assigning the accuracy score values with help of y_test and y_pred \n",
    "#Accuracy classification score - This function computes subset accuracy the y predicted for a sample must exactly match with the y_actual\n",
    "logreg=accuracy_score(y_test,y_pred) \n",
    "logreg"
   ]
  },
  {
   "cell_type": "code",
   "execution_count": 30,
   "id": "febf90da-122c-46e7-9657-8bf5be16cf07",
   "metadata": {},
   "outputs": [
    {
     "data": {
      "text/plain": [
       "0.7692012695054218"
      ]
     },
     "execution_count": 30,
     "metadata": {},
     "output_type": "execute_result"
    }
   ],
   "source": [
    "#Printing roc and auc scores\n",
    "#OC is a probability curve and AUC represents the degree/measure of separability\n",
    "roc_auc_score(y_test, y_pred)"
   ]
  },
  {
   "cell_type": "code",
   "execution_count": 31,
   "id": "244880aa-5a54-460e-b016-0a58ebf37213",
   "metadata": {},
   "outputs": [
    {
     "name": "stdout",
     "output_type": "stream",
     "text": [
      "              precision    recall  f1-score   support\n",
      "\n",
      "           0       0.80      0.72      0.76       995\n",
      "           1       0.74      0.82      0.77       950\n",
      "\n",
      "    accuracy                           0.77      1945\n",
      "   macro avg       0.77      0.77      0.77      1945\n",
      "weighted avg       0.77      0.77      0.77      1945\n",
      "\n"
     ]
    }
   ],
   "source": [
    "#Classification report- Build a text report showing the main classification metrics.\n",
    "print(metrics.classification_report(y_test, y_pred)) "
   ]
  },
  {
   "cell_type": "markdown",
   "id": "d5d89a76-da30-41ba-a5f1-0ea12b7ae4ed",
   "metadata": {},
   "source": [
    "Model 2 - Decision Tree Classifier"
   ]
  },
  {
   "cell_type": "code",
   "execution_count": 32,
   "id": "0174e8b2-4c59-4603-834d-98f14bc02ea0",
   "metadata": {},
   "outputs": [],
   "source": [
    "#Calling decision tree classifier \n",
    "dt = DecisionTreeClassifier(criterion = 'entropy', random_state = 42)\n",
    "dt.fit(X_train, y_train) #fitting and training the model with traning values\n",
    "dt_pred_train = dt.predict(X_train)"
   ]
  },
  {
   "cell_type": "markdown",
   "id": "a5034f60-bab9-4211-b47e-3b8aae13eeb1",
   "metadata": {},
   "source": [
    "Evaluation of Model 2 - Decision Tree Classifier"
   ]
  },
  {
   "cell_type": "code",
   "execution_count": 33,
   "id": "0e15ffe3-7a3f-46e9-a071-eb4369500395",
   "metadata": {},
   "outputs": [
    {
     "name": "stdout",
     "output_type": "stream",
     "text": [
      "Training Set Evaluation F1-Score=>  1.0\n"
     ]
    }
   ],
   "source": [
    "#Printing evaluation score usinf f-test for training data\n",
    "print('Training Set Evaluation F1-Score=> ', f1_score(y_train, dt_pred_train))"
   ]
  },
  {
   "cell_type": "code",
   "execution_count": 34,
   "id": "c5c4e3fc-c20f-4203-be68-566051613086",
   "metadata": {},
   "outputs": [
    {
     "name": "stdout",
     "output_type": "stream",
     "text": [
      "Testing Set Evaluation F1-Score=>  0.9150599270453361\n"
     ]
    }
   ],
   "source": [
    "dt_pred_test = dt.predict(X_test)\n",
    "#Printing evaluation score usinf f-test for test data\n",
    "print('Testing Set Evaluation F1-Score=> ', f1_score(y_test, dt_pred_test))"
   ]
  },
  {
   "cell_type": "markdown",
   "id": "fdd16736-e7ba-444c-ba08-b758ae8d4b45",
   "metadata": {},
   "source": [
    "Model 3 - Random Forest Classifier "
   ]
  },
  {
   "cell_type": "code",
   "execution_count": 35,
   "id": "e33dd2f2-997a-445a-a57a-cc690e592ded",
   "metadata": {},
   "outputs": [
    {
     "data": {
      "text/plain": [
       "RandomForestClassifier(criterion='entropy', random_state=42)"
      ]
     },
     "execution_count": 35,
     "metadata": {},
     "output_type": "execute_result"
    }
   ],
   "source": [
    "#Building Random Forest Classifier\n",
    "rfc = RandomForestClassifier(criterion = 'entropy', random_state = 42)\n",
    "rfc.fit(X_train, y_train)"
   ]
  },
  {
   "cell_type": "markdown",
   "id": "2417873d-ced0-4f24-9b9b-db3ab881f26e",
   "metadata": {},
   "source": [
    "Evaluation of Model 3 - Random Forest Classifier "
   ]
  },
  {
   "cell_type": "code",
   "execution_count": 36,
   "id": "530d03ff-cbab-4826-aa4c-aefb0009b721",
   "metadata": {},
   "outputs": [
    {
     "name": "stdout",
     "output_type": "stream",
     "text": [
      "Training Set Evaluation F1_score=>  1.0\n"
     ]
    }
   ],
   "source": [
    "#Evaluating on Training set\n",
    "rfc_pred_train = rfc.predict(X_train)\n",
    "print('Training Set Evaluation F1_score=> ', f1_score(y_train, rfc_pred_train))"
   ]
  },
  {
   "cell_type": "code",
   "execution_count": 37,
   "id": "d180300f-1abe-4528-bd66-5da7f7b4a43a",
   "metadata": {},
   "outputs": [
    {
     "name": "stdout",
     "output_type": "stream",
     "text": [
      "Testing Set Evaluation F1-Score=>  0.8925449871465294\n"
     ]
    }
   ],
   "source": [
    "rfc_pred_test = rfc.predict(X_test)\n",
    "#Printing evaluation score usinf f-test for test data\n",
    "print('Testing Set Evaluation F1-Score=> ', f1_score(y_test, rfc_pred_test))"
   ]
  },
  {
   "cell_type": "markdown",
   "id": "ee7b6490-9289-45c9-89ca-f773510f7a61",
   "metadata": {},
   "source": [
    "Model 4 - Extreme Gradient Boosting "
   ]
  },
  {
   "cell_type": "code",
   "execution_count": 38,
   "id": "588acb38-6ad8-4a71-a5d2-33b181b977e1",
   "metadata": {},
   "outputs": [
    {
     "name": "stdout",
     "output_type": "stream",
     "text": [
      "[16:53:13] WARNING: C:/Users/Administrator/workspace/xgboost-win64_release_1.5.1/src/learner.cc:1115: Starting in XGBoost 1.3.0, the default evaluation metric used with the objective 'binary:logistic' was changed from 'error' to 'logloss'. Explicitly set eval_metric if you'd like to restore the old behavior.\n"
     ]
    },
    {
     "name": "stderr",
     "output_type": "stream",
     "text": [
      "C:\\Users\\srusti\\Anaconda3\\lib\\site-packages\\xgboost\\sklearn.py:1224: UserWarning: The use of label encoder in XGBClassifier is deprecated and will be removed in a future release. To remove this warning, do the following: 1) Pass option use_label_encoder=False when constructing XGBClassifier object; and 2) Encode your labels (y) as integers starting with 0, i.e. 0, 1, 2, ..., [num_class - 1].\n",
      "  warnings.warn(label_encoder_deprecation_msg, UserWarning)\n"
     ]
    },
    {
     "data": {
      "text/plain": [
       "XGBClassifier(base_score=0.5, booster='gbtree', colsample_bylevel=1,\n",
       "              colsample_bynode=1, colsample_bytree=1, enable_categorical=False,\n",
       "              gamma=0, gpu_id=-1, importance_type=None,\n",
       "              interaction_constraints='', learning_rate=0.300000012,\n",
       "              max_delta_step=0, max_depth=6, min_child_weight=1, missing=nan,\n",
       "              monotone_constraints='()', n_estimators=100, n_jobs=12,\n",
       "              num_parallel_tree=1, predictor='auto', random_state=0,\n",
       "              reg_alpha=0, reg_lambda=1, scale_pos_weight=1, subsample=1,\n",
       "              tree_method='exact', validate_parameters=1, verbosity=None)"
      ]
     },
     "execution_count": 38,
     "metadata": {},
     "output_type": "execute_result"
    }
   ],
   "source": [
    "#Building Xgboost Classifier\n",
    "\n",
    "xgb_model = XGBClassifier()\n",
    "xgb_model.fit(X_train, y_train)"
   ]
  },
  {
   "cell_type": "markdown",
   "id": "c51fa63e-1913-4e63-a616-ef38421c7276",
   "metadata": {},
   "source": [
    "Evaluation of Model 4 - Extreme Gradient Boosting "
   ]
  },
  {
   "cell_type": "code",
   "execution_count": 39,
   "id": "3c659500-e226-4719-82f3-2b29b7de423e",
   "metadata": {},
   "outputs": [
    {
     "name": "stdout",
     "output_type": "stream",
     "text": [
      "Training Score: 0.9741545583129742\n"
     ]
    }
   ],
   "source": [
    "#Evaluating on Training set\n",
    "print('Training Score: {}'.format(xgb_model.score(X_train, y_train))) "
   ]
  },
  {
   "cell_type": "code",
   "execution_count": 40,
   "id": "ce0b49e8-1159-4b4e-a14f-8a0a6260eea1",
   "metadata": {},
   "outputs": [
    {
     "name": "stdout",
     "output_type": "stream",
     "text": [
      "Test Score: 0.9485861182519281\n"
     ]
    }
   ],
   "source": [
    "#Evaluating on test set\n",
    "print('Test Score: {}'.format(xgb_model.score(X_test, y_test)))"
   ]
  },
  {
   "cell_type": "code",
   "execution_count": 41,
   "id": "3477917a-ef5e-44b1-8a7d-4ea09c209701",
   "metadata": {},
   "outputs": [],
   "source": [
    "y_pred = xgb_model.predict(X_test)"
   ]
  },
  {
   "cell_type": "code",
   "execution_count": 42,
   "id": "4151867a-e715-4d7c-b763-aaf2609dc2c4",
   "metadata": {},
   "outputs": [
    {
     "data": {
      "text/plain": [
       "0.9485861182519281"
      ]
     },
     "execution_count": 42,
     "metadata": {},
     "output_type": "execute_result"
    }
   ],
   "source": [
    "#Printing accuracy scores for xgboost\n",
    "logreg=accuracy_score(y_test,y_pred) \n",
    "logreg"
   ]
  },
  {
   "cell_type": "code",
   "execution_count": 43,
   "id": "4cbd0d71-e703-4c9c-9915-69b3fdd74997",
   "metadata": {},
   "outputs": [
    {
     "data": {
      "text/plain": [
       "0.9484871727056334"
      ]
     },
     "execution_count": 43,
     "metadata": {},
     "output_type": "execute_result"
    }
   ],
   "source": [
    "#Printing roc and auc scores for xgboost\n",
    "roc_auc_score(y_test, y_pred)"
   ]
  },
  {
   "cell_type": "code",
   "execution_count": 44,
   "id": "7613ca44-48c4-4869-81da-5439eb273745",
   "metadata": {},
   "outputs": [
    {
     "name": "stdout",
     "output_type": "stream",
     "text": [
      "              precision    recall  f1-score   support\n",
      "\n",
      "           0       0.95      0.95      0.95       995\n",
      "           1       0.95      0.94      0.95       950\n",
      "\n",
      "    accuracy                           0.95      1945\n",
      "   macro avg       0.95      0.95      0.95      1945\n",
      "weighted avg       0.95      0.95      0.95      1945\n",
      "\n"
     ]
    }
   ],
   "source": [
    "#Classification report for xgboost\n",
    "print(metrics.classification_report(y_test, y_pred))"
   ]
  },
  {
   "cell_type": "markdown",
   "id": "66d4d6d4-ca19-4a38-bb67-86a2fe9b5914",
   "metadata": {},
   "source": [
    "## Conclusion\n",
    "\n",
    "As per the above models we can say, that the model 4 - Extreme Gradient Boosting has the highest accuracy for both training and test data set.\n",
    "And the evaluation score is similar for train and test data.\n",
    "So, we can use the same model for our predictions."
   ]
  }
 ],
 "metadata": {
  "kernelspec": {
   "display_name": "Python 3",
   "language": "python",
   "name": "python3"
  },
  "language_info": {
   "codemirror_mode": {
    "name": "ipython",
    "version": 3
   },
   "file_extension": ".py",
   "mimetype": "text/x-python",
   "name": "python",
   "nbconvert_exporter": "python",
   "pygments_lexer": "ipython3",
   "version": "3.8.8"
  }
 },
 "nbformat": 4,
 "nbformat_minor": 5
}
